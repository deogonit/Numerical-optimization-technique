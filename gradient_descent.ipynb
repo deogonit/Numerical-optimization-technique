{
 "cells": [
  {
   "cell_type": "markdown",
   "metadata": {},
   "source": [
    "### We have a two exploring function and interval $x \\in [-N, N]$, when N is number of variant\n",
    "$$F_1(x, y) = (x - N)^2 + (2 * y - N)^2$$\n",
    "\n",
    "$$F_2(x, y) = \\frac{N}{10}(y - x^2)^2 + (N - x)^2$$"
   ]
  },
  {
   "cell_type": "markdown",
   "metadata": {},
   "source": [
    "#### For N = 4, we have functions:\n",
    "$$F_1(x, y) = (x - 4)^2 + (2 * y - 4)^2$$\n",
    "\n",
    "$$F_2(x, y) = \\frac{4}{10}(y - x^2)^2 + (4 - x)^2$$\n",
    "\n",
    "#### We need to find a analytic minimum value for these functions:\n",
    "$\\frac{dF_1}{dx}= 2(x - 4) = 0    \\Rightarrow   x = 4$  \n",
    "\n",
    "$\\frac{dF_1}{dy}= 8(y - 2) = 0    \\Rightarrow   y = 2$\n",
    "\n",
    "Then $min(F_1(x, y)) = F_1(4, 2) = 0$\n",
    "***\n",
    "$\\frac{dF_2}{dx}= -8 + 1.6 x^3 + x (2 - 1.6 y) = 0$      \n",
    "$\\frac{dF_2}{dx}= 0.8(-x^2 + y)$    \n",
    "\n",
    "Then solve system, which consisting of two equations $\\Rightarrow$\n",
    "\n",
    "$ x = 4, y =  16$\n",
    "\n",
    "\n",
    "$min(F_2(x, y)) = F_2(4, 16) = 0$"
   ]
  },
  {
   "cell_type": "code",
   "execution_count": 2,
   "metadata": {},
   "outputs": [],
   "source": [
    "from abc import ABC, abstractmethod\n",
    "import math\n",
    "import matplotlib.pyplot as plt\n",
    "import numpy as np\n",
    "import pandas as pd"
   ]
  },
  {
   "cell_type": "code",
   "execution_count": 3,
   "metadata": {},
   "outputs": [],
   "source": [
    "class Vec2d:\n",
    "    def __init__(self, x=0.0, y=0.0):\n",
    "        self.x = float(x)\n",
    "        self.y = float(y)\n",
    "\n",
    "    def __str__(self):\n",
    "        return f\"x = {self.x}\\ny = {self.y}\"\n",
    "\n",
    "    def __add__(self, other):\n",
    "        if isinstance(other, int) or isinstance(other, float):\n",
    "            return Vec2d(self.x + other, self.y + other)\n",
    "        elif isinstance(other, Vec2d):\n",
    "            return Vec2d(self.x + other.x, self.y + other.y)\n",
    "\n",
    "    def __sub__(self, other):\n",
    "        if isinstance(other, int) or isinstance(other, float):\n",
    "            return Vec2d(self.x - other, self.y - other)\n",
    "        elif isinstance(other, Vec2d):\n",
    "            return Vec2d(self.x - other.x, self.y - other.y)\n",
    "\n",
    "    def __mul__(self, other):\n",
    "        if isinstance(other, int) or isinstance(other, float):\n",
    "            return Vec2d(self.x * other, self.y * other)\n",
    "        elif isinstance(other, Vec2d):\n",
    "            return self.x * other.x + self.y * other.y\n",
    "\n",
    "    def __truediv__(self, other):\n",
    "        if isinstance(other, int) or isinstance(other, float):\n",
    "            return Vec2d(self.x / other, self.y / other)\n",
    "        elif isinstance(other, Vec2d):\n",
    "            return self.x / other.x + self.y / other.y\n",
    "\n",
    "    __rmul__ = __mul__\n",
    "\n",
    "    def len(self):\n",
    "        return int(math.sqrt(self.x ** 2 + self.y ** 2))\n",
    "\n",
    "    def int_pair(self):\n",
    "        return int(self.x), int(self.y)"
   ]
  },
  {
   "cell_type": "code",
   "execution_count": 4,
   "metadata": {},
   "outputs": [],
   "source": [
    "def func_first(N: int):\n",
    "    def function(point: Vec2d):\n",
    "        return (point.x - N) ** 2 + (2 * point.y - N) ** 2\n",
    "    return function\n",
    "\n",
    "def func_second(N: int):\n",
    "    def function(point: Vec2d):\n",
    "        return 0.1 * N * (point.y - point.x**2)**2 + (N - point.x)**2\n",
    "    return function"
   ]
  },
  {
   "cell_type": "code",
   "execution_count": 5,
   "metadata": {},
   "outputs": [],
   "source": [
    "class AnalysisFunction:\n",
    "    def __init__(self,function, N, point: Vec2d, name):\n",
    "        self.N = N\n",
    "        self.a = -2 * N\n",
    "        self.b = 6 * N\n",
    "        self.func = function\n",
    "        self.name = name\n",
    "        self.precise_solution = x\n",
    "        self.start_point_x = -1.2 * N\n",
    "        self.start_point_y = N\n",
    "        \n",
    "    def make_solution(self, method):\n",
    "        analysis_method = method(self.func, self.a, self.b, \n",
    "                          self.start_point_x, self.start_point_y, self.N)\n",
    "        points = analysis_method.get_list_finding_values()\n",
    "        result = [[], []]\n",
    "        for point in points:\n",
    "            result[0].append(point.x)\n",
    "            result[1].append(point.y)\n",
    "        self.result = result\n",
    "        \n",
    "    def plot_graph(self):\n",
    "        xlist = np.linspace(-20.0, 20.0, 200)\n",
    "        ylist = np.linspace(-20.0, 20.0, 200)\n",
    "        X, Y = np.meshgrid(xlist, ylist)\n",
    "        Z = self.make_2d_array(ylist, xlist)\n",
    "\n",
    "        plt.figure()\n",
    "\n",
    "        cp = plt.contourf(X, Y, Z, 10)\n",
    "        plt.colorbar(cp)\n",
    "        plt.plot(self.result[0], self.result[1], linewidth=2)\n",
    "        plt.title('Graphic of '+ self.name)\n",
    "        plt.show()\n",
    "        \n",
    "    def build_table(self):\n",
    "        f = []\n",
    "        length = range(len(self.result[0]))\n",
    "        for i in length:\n",
    "            value = self.func(Vec2d(self.result[0][i], self.result[1][i]))\n",
    "            f.append(value)\n",
    "        \n",
    "        table = pd.DataFrame({\n",
    "            'num of iter': list(length),\n",
    "            'x1': self.result[0],\n",
    "            'x2': self.result[1],\n",
    "            self.name: f,\n",
    "        })\n",
    "        return table\n",
    "    \n",
    "    def make_2d_array(self, x, y):\n",
    "        f = [[self.func(Vec2d(y_, x_)) for y_ in y] for x_ in x]\n",
    "        return f"
   ]
  },
  {
   "cell_type": "code",
   "execution_count": 6,
   "metadata": {},
   "outputs": [],
   "source": [
    "N = 4\n",
    "x = 4\n",
    "y = 16"
   ]
  },
  {
   "cell_type": "code",
   "execution_count": 7,
   "metadata": {},
   "outputs": [],
   "source": [
    "class MethodFindingMinValue(ABC):\n",
    "    def __init__(self, func, a: float, b: float, point_x, point_y, N: int):\n",
    "        self.func = func\n",
    "        self.a = a\n",
    "        self.b = b\n",
    "        self.N = N\n",
    "        self.start_point_x = point_x\n",
    "        self.start_point_y = point_y\n",
    "        self.eps = 0.0001\n",
    "        self.result = None\n",
    "        \n",
    "    def get_min_value(self):\n",
    "        return self.get_list_finding_values()[-1]\n",
    "    \n",
    "    @abstractmethod\n",
    "    def get_list_finding_values(self):\n",
    "        pass\n",
    "\n",
    "    \n",
    "class GradientDescent(MethodFindingMinValue):\n",
    "    def __init__(self, func, a: float, b: float, point_x, point_y, N: int):\n",
    "        super().__init__(func, a, b, point_x, point_y, N)\n",
    "\n",
    "    def get_list_finding_values(self):\n",
    "        k_iter = 0\n",
    "        n = 2\n",
    "        start_point = Vec2d(self.start_point_x, self.start_point_y)\n",
    "        result = [start_point]\n",
    "        while k_iter < 200:\n",
    "            prev_point = result[k_iter]\n",
    "            cur = [prev_point.x, prev_point.y]\n",
    "            for i in range(n):\n",
    "                alpha = self.golden_section(cur[i-1], i)\n",
    "                cur[i] = alpha\n",
    "            cur_point = Vec2d(cur[0], cur[1])\n",
    "            result.append(cur_point)\n",
    "            k_iter += 1\n",
    "            if math.sqrt((cur_point.x - prev_point.x) ** 2 + (cur_point.y - prev_point.y) ** 2) < self.eps:\n",
    "                self.result = result\n",
    "                return result\n",
    "        self.result = result\n",
    "        return result\n",
    "    \n",
    "    def golden_section(self, x_const, i) -> float:\n",
    "        start = self.a\n",
    "        finish = self.b\n",
    "        TAU = (5**0.5 - 1) / 2\n",
    "        n = 0\n",
    "        eps_n = (self.b - self.a) / 2\n",
    "        while eps_n >= self.eps:\n",
    "            x_one = start + (finish - start) * ((3 - 5**0.5) / 2)\n",
    "            x_two = start + (finish - start) * ((5**0.5 - 1) / 2)\n",
    "            if i == 0:\n",
    "                point_one = Vec2d(x_one, x_const)\n",
    "                point_two = Vec2d(x_two, x_const)\n",
    "            elif i == 1:\n",
    "                point_one = Vec2d(x_const, x_one)\n",
    "                point_two = Vec2d(x_const, x_two)\n",
    "            if self.func(point_one) <= self.func(point_two):\n",
    "                finish = x_two\n",
    "            else:\n",
    "                start = x_one\n",
    "            eps_n *= TAU\n",
    "        x_approxim = (start + finish) / 2\n",
    "        return x_approxim\n"
   ]
  },
  {
   "cell_type": "code",
   "execution_count": 8,
   "metadata": {},
   "outputs": [],
   "source": [
    "analysis_first_func = AnalysisFunction(func_first(N), N, Vec2d(x, y), 'F1')\n",
    "analysis_first_func.make_solution(GradientDescent)"
   ]
  },
  {
   "cell_type": "code",
   "execution_count": 9,
   "metadata": {},
   "outputs": [],
   "source": [
    "analysis_second_func = AnalysisFunction(func_second(N), N, Vec2d(x, y), 'F2')\n",
    "analysis_second_func.make_solution(GradientDescent)"
   ]
  },
  {
   "cell_type": "markdown",
   "metadata": {},
   "source": [
    "#### Table of result of a Gradient descent method (first function)"
   ]
  },
  {
   "cell_type": "code",
   "execution_count": 10,
   "metadata": {},
   "outputs": [
    {
     "data": {
      "text/html": [
       "<div>\n",
       "<style scoped>\n",
       "    .dataframe tbody tr th:only-of-type {\n",
       "        vertical-align: middle;\n",
       "    }\n",
       "\n",
       "    .dataframe tbody tr th {\n",
       "        vertical-align: top;\n",
       "    }\n",
       "\n",
       "    .dataframe thead th {\n",
       "        text-align: right;\n",
       "    }\n",
       "</style>\n",
       "<table border=\"1\" class=\"dataframe\">\n",
       "  <thead>\n",
       "    <tr style=\"text-align: right;\">\n",
       "      <th></th>\n",
       "      <th>num of iter</th>\n",
       "      <th>x1</th>\n",
       "      <th>x2</th>\n",
       "      <th>F1</th>\n",
       "    </tr>\n",
       "  </thead>\n",
       "  <tbody>\n",
       "    <tr>\n",
       "      <td>0</td>\n",
       "      <td>0</td>\n",
       "      <td>-4.80000</td>\n",
       "      <td>4.000000</td>\n",
       "      <td>9.344000e+01</td>\n",
       "    </tr>\n",
       "    <tr>\n",
       "      <td>1</td>\n",
       "      <td>1</td>\n",
       "      <td>3.99998</td>\n",
       "      <td>1.999999</td>\n",
       "      <td>4.193447e-10</td>\n",
       "    </tr>\n",
       "    <tr>\n",
       "      <td>2</td>\n",
       "      <td>2</td>\n",
       "      <td>3.99998</td>\n",
       "      <td>1.999999</td>\n",
       "      <td>4.193447e-10</td>\n",
       "    </tr>\n",
       "  </tbody>\n",
       "</table>\n",
       "</div>"
      ],
      "text/plain": [
       "   num of iter       x1        x2            F1\n",
       "0            0 -4.80000  4.000000  9.344000e+01\n",
       "1            1  3.99998  1.999999  4.193447e-10\n",
       "2            2  3.99998  1.999999  4.193447e-10"
      ]
     },
     "execution_count": 10,
     "metadata": {},
     "output_type": "execute_result"
    }
   ],
   "source": [
    "analysis_first_func.build_table()"
   ]
  },
  {
   "cell_type": "markdown",
   "metadata": {},
   "source": [
    "#### Table of result of a Gradient descent method (second function)"
   ]
  },
  {
   "cell_type": "code",
   "execution_count": 11,
   "metadata": {},
   "outputs": [
    {
     "data": {
      "text/html": [
       "<div>\n",
       "<style scoped>\n",
       "    .dataframe tbody tr th:only-of-type {\n",
       "        vertical-align: middle;\n",
       "    }\n",
       "\n",
       "    .dataframe tbody tr th {\n",
       "        vertical-align: top;\n",
       "    }\n",
       "\n",
       "    .dataframe thead th {\n",
       "        text-align: right;\n",
       "    }\n",
       "</style>\n",
       "<table border=\"1\" class=\"dataframe\">\n",
       "  <thead>\n",
       "    <tr style=\"text-align: right;\">\n",
       "      <th></th>\n",
       "      <th>num of iter</th>\n",
       "      <th>x1</th>\n",
       "      <th>x2</th>\n",
       "      <th>F2</th>\n",
       "    </tr>\n",
       "  </thead>\n",
       "  <tbody>\n",
       "    <tr>\n",
       "      <td>0</td>\n",
       "      <td>0</td>\n",
       "      <td>-4.800000</td>\n",
       "      <td>4.000000</td>\n",
       "      <td>222.448640</td>\n",
       "    </tr>\n",
       "    <tr>\n",
       "      <td>1</td>\n",
       "      <td>1</td>\n",
       "      <td>2.233486</td>\n",
       "      <td>4.988431</td>\n",
       "      <td>3.120571</td>\n",
       "    </tr>\n",
       "    <tr>\n",
       "      <td>2</td>\n",
       "      <td>2</td>\n",
       "      <td>2.410901</td>\n",
       "      <td>5.812468</td>\n",
       "      <td>2.525236</td>\n",
       "    </tr>\n",
       "    <tr>\n",
       "      <td>3</td>\n",
       "      <td>3</td>\n",
       "      <td>2.553588</td>\n",
       "      <td>6.520819</td>\n",
       "      <td>2.092108</td>\n",
       "    </tr>\n",
       "    <tr>\n",
       "      <td>4</td>\n",
       "      <td>4</td>\n",
       "      <td>2.672388</td>\n",
       "      <td>7.141675</td>\n",
       "      <td>1.762553</td>\n",
       "    </tr>\n",
       "    <tr>\n",
       "      <td>...</td>\n",
       "      <td>...</td>\n",
       "      <td>...</td>\n",
       "      <td>...</td>\n",
       "      <td>...</td>\n",
       "    </tr>\n",
       "    <tr>\n",
       "      <td>163</td>\n",
       "      <td>163</td>\n",
       "      <td>3.998364</td>\n",
       "      <td>15.986908</td>\n",
       "      <td>0.000003</td>\n",
       "    </tr>\n",
       "    <tr>\n",
       "      <td>164</td>\n",
       "      <td>164</td>\n",
       "      <td>3.998481</td>\n",
       "      <td>15.987907</td>\n",
       "      <td>0.000002</td>\n",
       "    </tr>\n",
       "    <tr>\n",
       "      <td>165</td>\n",
       "      <td>165</td>\n",
       "      <td>3.998599</td>\n",
       "      <td>15.988787</td>\n",
       "      <td>0.000002</td>\n",
       "    </tr>\n",
       "    <tr>\n",
       "      <td>166</td>\n",
       "      <td>166</td>\n",
       "      <td>3.998672</td>\n",
       "      <td>15.989405</td>\n",
       "      <td>0.000002</td>\n",
       "    </tr>\n",
       "    <tr>\n",
       "      <td>167</td>\n",
       "      <td>167</td>\n",
       "      <td>3.998672</td>\n",
       "      <td>15.989405</td>\n",
       "      <td>0.000002</td>\n",
       "    </tr>\n",
       "  </tbody>\n",
       "</table>\n",
       "<p>168 rows × 4 columns</p>\n",
       "</div>"
      ],
      "text/plain": [
       "     num of iter        x1         x2          F2\n",
       "0              0 -4.800000   4.000000  222.448640\n",
       "1              1  2.233486   4.988431    3.120571\n",
       "2              2  2.410901   5.812468    2.525236\n",
       "3              3  2.553588   6.520819    2.092108\n",
       "4              4  2.672388   7.141675    1.762553\n",
       "..           ...       ...        ...         ...\n",
       "163          163  3.998364  15.986908    0.000003\n",
       "164          164  3.998481  15.987907    0.000002\n",
       "165          165  3.998599  15.988787    0.000002\n",
       "166          166  3.998672  15.989405    0.000002\n",
       "167          167  3.998672  15.989405    0.000002\n",
       "\n",
       "[168 rows x 4 columns]"
      ]
     },
     "execution_count": 11,
     "metadata": {},
     "output_type": "execute_result"
    }
   ],
   "source": [
    "analysis_second_func.build_table()"
   ]
  },
  {
   "cell_type": "markdown",
   "metadata": {},
   "source": [
    "#### Graphic of projection (first function)"
   ]
  },
  {
   "cell_type": "code",
   "execution_count": 12,
   "metadata": {},
   "outputs": [
    {
     "data": {
      "image/png": "[encoded data removed]",
      "text/plain": [
       "<Figure size 432x288 with 2 Axes>"
      ]
     },
     "metadata": {
      "needs_background": "light"
     },
     "output_type": "display_data"
    }
   ],
   "source": [
    "analysis_first_func.plot_graph()"
   ]
  },
  {
   "cell_type": "markdown",
   "metadata": {},
   "source": [
    "#### Graphic of projection (second function)"
   ]
  },
  {
   "cell_type": "code",
   "execution_count": 13,
   "metadata": {},
   "outputs": [
    {
     "data": {
      "image/png": "[encoded data removed]",
      "text/plain": [
       "<Figure size 432x288 with 2 Axes>"
      ]
     },
     "metadata": {
      "needs_background": "light"
     },
     "output_type": "display_data"
    }
   ],
   "source": [
    "analysis_second_func.plot_graph()"
   ]
  }
 ],
 "metadata": {
  "kernelspec": {
   "display_name": "Python 3",
   "language": "python",
   "name": "python3"
  },
  "language_info": {
   "codemirror_mode": {
    "name": "ipython",
    "version": 3
   },
   "file_extension": ".py",
   "mimetype": "text/x-python",
   "name": "python",
   "nbconvert_exporter": "python",
   "pygments_lexer": "ipython3",
   "version": "3.7.3"
  }
 },
 "nbformat": 4,
 "nbformat_minor": 2
}
